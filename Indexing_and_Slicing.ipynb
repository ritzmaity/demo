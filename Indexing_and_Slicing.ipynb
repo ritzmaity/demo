{
  "cells": [
    {
      "cell_type": "markdown",
      "id": "9c01d96d",
      "metadata": {
        "id": "9c01d96d"
      },
      "source": [
        "# Indexing: \n",
        "\n",
        "- Helpful to access a value present in a variable or data structure\n",
        "- Among all data types only applicable for **string** \n",
        "- **Indexing in python starts from 0**.\n",
        "- Indexing can be **positive** (starts with 0) or **negative** (starts with -1) also.\n",
        "- End position will always be ignored."
      ]
    },
    {
      "cell_type": "code",
      "execution_count": null,
      "id": "862ee4ba",
      "metadata": {
        "colab": {
          "base_uri": "https://localhost:8080/"
        },
        "id": "862ee4ba",
        "outputId": "2d9382a8-8721-49f7-ff9b-4878150c9db9"
      },
      "outputs": [
        {
          "output_type": "stream",
          "name": "stdout",
          "text": [
            "White \n",
            "te\n",
            "White Tig\n",
            "White Tig\n"
          ]
        }
      ],
      "source": [
        "Big_cat = \"White Tiger\"\n",
        "\n",
        "print(Big_cat[0:6]) \n",
        "print(Big_cat[3:5])\n",
        "print(Big_cat[0:9])\n",
        "print(Big_cat[:9:])"
      ]
    },
    {
      "cell_type": "code",
      "execution_count": null,
      "id": "8506e039",
      "metadata": {
        "id": "8506e039"
      },
      "outputs": [],
      "source": [
        "# # Practice\n",
        "print(Big_cat[10:14])\n",
        "print(Big_cat[10:])\n",
        "print(Big_cat[:])"
      ]
    },
    {
      "cell_type": "code",
      "execution_count": null,
      "id": "14e8ecce",
      "metadata": {
        "id": "14e8ecce",
        "outputId": "334c7817-fba5-406f-9cab-2ecdcf5013c7"
      },
      "outputs": [
        {
          "name": "stdout",
          "output_type": "stream",
          "text": [
            "White Tiger\n"
          ]
        }
      ],
      "source": [
        "# # What will happen here?\n",
        "print(Big_cat[:])"
      ]
    },
    {
      "cell_type": "code",
      "execution_count": null,
      "id": "4552ccb3",
      "metadata": {
        "colab": {
          "base_uri": "https://localhost:8080/"
        },
        "id": "4552ccb3",
        "outputId": "caa82dac-5fc7-415c-a2a1-79ea9c83a9b3"
      },
      "outputs": [
        {
          "output_type": "stream",
          "name": "stdout",
          "text": [
            "mnopqrstuv\n"
          ]
        }
      ],
      "source": [
        "letters = \"abcdefghijklmnopqrstuvwxyz\"\n",
        "print(letters[-14:10])"
      ]
    },
    {
      "cell_type": "code",
      "execution_count": null,
      "id": "059987a0",
      "metadata": {
        "colab": {
          "base_uri": "https://localhost:8080/"
        },
        "id": "059987a0",
        "outputId": "923fa94c-f453-467d-b023-a504451e746d"
      },
      "outputs": [
        {
          "output_type": "stream",
          "name": "stdout",
          "text": [
            "ace\n",
            "adg\n"
          ]
        }
      ],
      "source": [
        "# Using a step in slice\n",
        "print(letters[0:6:2])\n",
        "print(letters[0:9:3])"
      ]
    },
    {
      "cell_type": "code",
      "execution_count": null,
      "id": "54d1dab1",
      "metadata": {
        "id": "54d1dab1",
        "outputId": "8a26d855-e044-412f-be68-500c0ed3ac6d"
      },
      "outputs": [
        {
          "name": "stdout",
          "output_type": "stream",
          "text": [
            ",,,,,,\n"
          ]
        }
      ],
      "source": [
        "Number = \"9,223,372,036,854,775,807\"\n",
        "print(Number[1::4])"
      ]
    },
    {
      "cell_type": "code",
      "execution_count": null,
      "id": "2a15db0e",
      "metadata": {
        "colab": {
          "base_uri": "https://localhost:8080/"
        },
        "id": "2a15db0e",
        "outputId": "6480c712-2ab9-4e13-f1d4-765eabb7aead"
      },
      "outputs": [
        {
          "output_type": "stream",
          "name": "stdout",
          "text": [
            "zupkfa\n"
          ]
        }
      ],
      "source": [
        "# # Slicing backwards\n",
        "letters = \"abcdefghijklmnopqrstuvwxyz\"\n",
        "\n",
        "backwards = letters[25::-5]\n",
        "print(backwards)\n"
      ]
    },
    {
      "cell_type": "code",
      "execution_count": null,
      "id": "2525889b",
      "metadata": {
        "colab": {
          "base_uri": "https://localhost:8080/"
        },
        "id": "2525889b",
        "outputId": "4d9b044f-deb9-41b9-db85-f85951f8fdce"
      },
      "outputs": [
        {
          "output_type": "stream",
          "name": "stdout",
          "text": [
            "\n"
          ]
        }
      ],
      "source": [
        "backwards = letters[25:-1:-1]\n",
        "print(backwards)\n"
      ]
    },
    {
      "cell_type": "code",
      "execution_count": null,
      "id": "0ab581d5",
      "metadata": {
        "id": "0ab581d5",
        "outputId": "0f3ed383-18f3-4cdb-b945-43c5801c6036"
      },
      "outputs": [
        {
          "name": "stdout",
          "output_type": "stream",
          "text": [
            "zyxwvutsrqponmlkjihgfedcba\n"
          ]
        }
      ],
      "source": [
        "backwards = letters[25::-1]\n",
        "print(backwards)\n"
      ]
    },
    {
      "cell_type": "code",
      "execution_count": null,
      "id": "4e21c8ab",
      "metadata": {
        "id": "4e21c8ab",
        "outputId": "2c2191d7-b335-49af-9a5d-96d2b748e05c"
      },
      "outputs": [
        {
          "name": "stdout",
          "output_type": "stream",
          "text": [
            "zyxwvutsrqponmlkjihgfedcba\n"
          ]
        }
      ],
      "source": [
        "backwards = letters[::-1]   # python idiom to reverse a string\n",
        "print(backwards)"
      ]
    },
    {
      "cell_type": "code",
      "execution_count": null,
      "id": "33772bca",
      "metadata": {
        "id": "33772bca",
        "outputId": "7a991eb7-4fbe-4e27-97f7-4de4e82ada69"
      },
      "outputs": [
        {
          "data": {
            "text/plain": [
              "'ABCDEFGHIJKLMNOPQRSTUVWXYZ'"
            ]
          },
          "execution_count": 14,
          "metadata": {},
          "output_type": "execute_result"
        }
      ],
      "source": [
        "# Practice print THE from letters\n",
        "Up_let = letters.upper()\n",
        "Up_let"
      ]
    },
    {
      "cell_type": "code",
      "execution_count": null,
      "id": "982dfa4f",
      "metadata": {
        "id": "982dfa4f",
        "outputId": "f22dce6e-a6af-43c5-d938-b56df363d698"
      },
      "outputs": [
        {
          "name": "stdout",
          "output_type": "stream",
          "text": [
            "T\n",
            "H\n",
            "E\n"
          ]
        }
      ],
      "source": [
        "print(Up_let[-7])\n",
        "print(Up_let[7])\n",
        "print(Up_let[4])"
      ]
    },
    {
      "cell_type": "markdown",
      "id": "b096392e",
      "metadata": {
        "id": "b096392e"
      },
      "source": [
        "- Indexing works similarly for data structures"
      ]
    }
  ],
  "metadata": {
    "kernelspec": {
      "display_name": "Python 3 (ipykernel)",
      "language": "python",
      "name": "python3"
    },
    "language_info": {
      "codemirror_mode": {
        "name": "ipython",
        "version": 3
      },
      "file_extension": ".py",
      "mimetype": "text/x-python",
      "name": "python",
      "nbconvert_exporter": "python",
      "pygments_lexer": "ipython3",
      "version": "3.9.7"
    },
    "colab": {
      "name": "Indexing_and_Slicing.ipynb",
      "provenance": [],
      "toc_visible": true
    }
  },
  "nbformat": 4,
  "nbformat_minor": 5
}